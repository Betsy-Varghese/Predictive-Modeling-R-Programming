{
 "cells": [
  {
   "cell_type": "markdown",
   "metadata": {},
   "source": [
    "## <center>0. Project Definition"
   ]
  },
  {
   "cell_type": "markdown",
   "metadata": {},
   "source": [
    "### AIM\n",
    "To predict if a customer will subscribe to a bank deposit or not\n",
    "\n",
    "### METHODOLOGY\n",
    "1. Pre-processing the data and creating the final base table \n",
    "2. To further split the training data into train and validation\n",
    "3. Hyper-parameter tuning\n",
    "4. Model Evaluation "
   ]
  },
  {
   "cell_type": "markdown",
   "metadata": {},
   "source": [
    "## <center> 1. Libraries and Folders"
   ]
  },
  {
   "cell_type": "code",
   "execution_count": 115,
   "metadata": {},
   "outputs": [
    {
     "name": "stderr",
     "output_type": "stream",
     "text": [
      "Warning message:\n",
      "\"package 'kknn' was built under R version 3.6.3\"\n",
      "Attaching package: 'kknn'\n",
      "\n",
      "The following object is masked from 'package:caret':\n",
      "\n",
      "    contr.dummy\n",
      "\n"
     ]
    }
   ],
   "source": [
    "Sys.setenv(LANG = \"en\")\n",
    "\n",
    "# Data processing library\n",
    "library(data.table)       # Data manipulation\n",
    "library(dplyr)            # Data manipulation\n",
    "library(plyr)             # Data manipulation\n",
    "library(stringr)          # String, text processing\n",
    "library(vita)             # Quickly check variable importance\n",
    "library(dataPreparation)  # Data preparation library\n",
    "library(woeBinning)       # Decision tree–based binning for numerical and categorical variables\n",
    "library(Boruta)           # Variable selection\n",
    "library(imbalance)\n",
    "library(DescTools)\n",
    "library(mefa4)            #for 'notin' operator\n",
    "\n",
    "# Machine Learning Libraries\n",
    "library(mlr)           # Machine learning framework\n",
    "library(caret)         # Data processing and machine learning framework\n",
    "library(MASS)          # LDA\n",
    "library(randomForest)  # RF\n",
    "library(gbm)           # Boosting Tree\n",
    "library(xgboost)       # XGboost\n",
    "library(kknn)          # K-Nearest Neighbours\n",
    "library(ROCR)          # Performance Metrics"
   ]
  },
  {
   "cell_type": "markdown",
   "metadata": {},
   "source": [
    "<br>\n",
    "<br>\n",
    "<br>\n",
    "<br>\n",
    "<br>\n",
    "\n",
    "## <center> 2. Creation of Base Table "
   ]
  },
  {
   "cell_type": "markdown",
   "metadata": {},
   "source": [
    "### 2.1 Importing the Datasets"
   ]
  },
  {
   "cell_type": "code",
   "execution_count": 93,
   "metadata": {
    "scrolled": false
   },
   "outputs": [],
   "source": [
    "# Read train (full), test (holdout)\n",
    "data <- read.csv(\"C:/Users/bvarghese/Desktop/IESEG Slides/Statistical Learning- Minh Phan/In-class Kaggle Competition/data/Kaggle/input/bank_mkt_train.csv\")  # Training dataset\n",
    "predict <- read.csv(\"C:/Users/bvarghese/Desktop/IESEG Slides/Statistical Learning- Minh Phan/In-class Kaggle Competition/data/Kaggle/input/bank_mkt_test.csv\") # Holdout data set without responsea"
   ]
  },
  {
   "cell_type": "markdown",
   "metadata": {},
   "source": [
    "### 2.2 Inspecting the variables"
   ]
  },
  {
   "cell_type": "code",
   "execution_count": 27,
   "metadata": {},
   "outputs": [
    {
     "name": "stdout",
     "output_type": "stream",
     "text": [
      "'data.frame':\t7000 obs. of  21 variables:\n",
      " $ client_id     : int  2 3 4 5 6 7 8 9 14 15 ...\n",
      " $ age           : int  29 39 49 32 29 51 34 52 52 29 ...\n",
      " $ job           : Factor w/ 12 levels \"admin.\",\"blue-collar\",..: 4 11 2 7 1 7 2 8 1 1 ...\n",
      " $ marital       : Factor w/ 4 levels \"divorced\",\"married\",..: 3 2 2 3 3 2 2 2 2 3 ...\n",
      " $ education     : Factor w/ 8 levels \"basic.4y\",\"basic.6y\",..: 4 3 2 7 4 7 1 4 7 7 ...\n",
      " $ default       : Factor w/ 2 levels \"no\",\"unknown\": 1 2 2 1 2 2 1 1 1 1 ...\n",
      " $ housing       : Factor w/ 3 levels \"no\",\"unknown\",..: 1 3 1 3 3 3 3 3 3 3 ...\n",
      " $ loan          : Factor w/ 3 levels \"no\",\"unknown\",..: 1 1 1 1 1 1 1 1 1 1 ...\n",
      " $ contact       : Factor w/ 2 levels \"cellular\",\"telephone\": 2 2 1 1 1 2 1 1 1 1 ...\n",
      " $ month         : Factor w/ 10 levels \"apr\",\"aug\",\"dec\",..: 7 5 8 7 4 5 8 8 8 5 ...\n",
      " $ day_of_week   : Factor w/ 5 levels \"fri\",\"mon\",\"thu\",..: 2 1 4 2 1 4 4 4 3 2 ...\n",
      " $ campaign      : int  3 6 2 3 2 1 1 1 3 1 ...\n",
      " $ pdays         : int  999 999 999 999 999 999 999 999 999 999 ...\n",
      " $ previous      : int  0 0 0 1 0 0 0 0 0 0 ...\n",
      " $ poutcome      : Factor w/ 3 levels \"failure\",\"nonexistent\",..: 2 2 2 1 2 2 2 2 2 2 ...\n",
      " $ emp.var.rate  : num  1.1 1.4 -0.1 -1.8 1.4 1.4 -0.1 -0.1 -0.1 -2.9 ...\n",
      " $ cons.price.idx: num  94 94.5 93.2 92.9 93.9 ...\n",
      " $ cons.conf.idx : num  -36.4 -41.8 -42 -46.2 -42.7 -41.8 -42 -42 -42 -40.8 ...\n",
      " $ euribor3m     : num  4.86 4.96 4.15 1.3 4.96 ...\n",
      " $ nr.employed   : num  5191 5228 5196 5099 5228 ...\n",
      " $ subscribe     : int  0 0 0 0 0 0 0 0 0 0 ...\n"
     ]
    }
   ],
   "source": [
    "# Print out to check the data type\n",
    "str(data)"
   ]
  },
  {
   "cell_type": "markdown",
   "metadata": {},
   "source": [
    "### 2.3 One-Hot Encoding for Categorical Variables"
   ]
  },
  {
   "cell_type": "code",
   "execution_count": 94,
   "metadata": {},
   "outputs": [],
   "source": [
    "## Creating a list of the categorical variables\n",
    "\n",
    "cat_list <- c()  # List to store categorical variable\n",
    "\n",
    "for (v in colnames(data)) {\n",
    "    if (class(data[, v]) == 'factor') {  # Factor == categorical variable\n",
    "        cat_list <- c(cat_list, v)\n",
    "    } \n",
    "}\n",
    "\n",
    "## Loop through all categorical variables\n",
    "for (v in cat_list) {\n",
    "    \n",
    "    # Representing categorical variable \n",
    "    encoding <- build_encoding(dataSet=data, cols=v, verbose=F)\n",
    "    \n",
    "    # Apply the binning for the training data\n",
    "    data <- one_hot_encoder(dataSet=data, encoding=encoding, type='numeric', drop=T, verbose=F)\n",
    "    setDF(data)\n",
    "    data <- data[, -ncol(data)]  # Drop the last dummy column\n",
    "    \n",
    "    # Apply the binning for the prediction data\n",
    "    predict <- one_hot_encoder(dataSet=predict, encoding=encoding, type='numeric', drop=T, verbose=F)\n",
    "    setDF(predict)\n",
    "    predict <- predict[, -ncol(predict)]  # Drop the last dummy column\n",
    "    \n",
    "}"
   ]
  },
  {
   "cell_type": "markdown",
   "metadata": {},
   "source": [
    "### 2.4 Feature Engineering for Numeric Variables"
   ]
  },
  {
   "cell_type": "markdown",
   "metadata": {},
   "source": [
    "#### 2.4.1 Correct the variable: campaign\n",
    "\n",
    "Since campaign includes also the last contact, its value should be reduce by 1."
   ]
  },
  {
   "cell_type": "code",
   "execution_count": 95,
   "metadata": {},
   "outputs": [
    {
     "data": {
      "text/html": [
       "0"
      ],
      "text/latex": [
       "0"
      ],
      "text/markdown": [
       "0"
      ],
      "text/plain": [
       "[1] 0"
      ]
     },
     "metadata": {},
     "output_type": "display_data"
    },
    {
     "data": {
      "text/html": [
       "0"
      ],
      "text/latex": [
       "0"
      ],
      "text/markdown": [
       "0"
      ],
      "text/plain": [
       "[1] 0"
      ]
     },
     "metadata": {},
     "output_type": "display_data"
    }
   ],
   "source": [
    "# Fix the value\n",
    "data[, 'campaign'] <- data[, 'campaign'] - 1\n",
    "predict[, 'campaign'] <- predict[, 'campaign'] - 1\n",
    "\n",
    "# Quick check\n",
    "min(data[, 'campaign'])  # Previously = 1\n",
    "min(predict[, 'campaign'])  # Previously = 1"
   ]
  },
  {
   "cell_type": "markdown",
   "metadata": {},
   "source": [
    "#### 2.4.2 Checking for outliers in numeric variables"
   ]
  },
  {
   "cell_type": "code",
   "execution_count": 30,
   "metadata": {
    "scrolled": false
   },
   "outputs": [
    {
     "data": {
      "image/png": "[encoded data removed]",
      "text/plain": [
       "Plot with title \"Histogram of data$nr.employed\""
      ]
     },
     "metadata": {},
     "output_type": "display_data"
    }
   ],
   "source": [
    "par(mfrow=c(3,2))\n",
    "hist(data$age, col = \"darkorange2\")\n",
    "hist(data$emp.var.rate, col= \"darkolivegreen2\")\n",
    "hist(data$cons.price.idx, col= \"darkturquoise\")\n",
    "hist(data$cons.conf.idx, col= \"chartreuse3\")\n",
    "hist(data$euribor3m, col= \"deeppink3\")\n",
    "hist(data$nr.employed, col= \"darkslateblue\")"
   ]
  },
  {
   "cell_type": "markdown",
   "metadata": {},
   "source": [
    "#### 2.4.3 Splitting the data into train and test sets"
   ]
  },
  {
   "cell_type": "code",
   "execution_count": 96,
   "metadata": {},
   "outputs": [],
   "source": [
    "# Splitting the data\n",
    "set.seed(8)\n",
    "smp_size <- floor(0.70*nrow(data))\n",
    "\n",
    "# set the seed to make your partition reproducible\n",
    "set.seed(8)\n",
    "train_ind <- sample(seq_len(nrow(data)), size = smp_size)\n",
    "\n",
    "train <- data[train_ind, ]\n",
    "test <- data[-train_ind, ]"
   ]
  },
  {
   "cell_type": "markdown",
   "metadata": {},
   "source": [
    "#### 2.4.4 Treating the abnormal distributions"
   ]
  },
  {
   "cell_type": "code",
   "execution_count": 97,
   "metadata": {
    "scrolled": true
   },
   "outputs": [],
   "source": [
    "train$age <- Winsorize(train$age, probs = c(0, 0.95))\n",
    "test$age <- Winsorize(test$age, probs = c(0, 0.95))\n",
    "predict$age <- Winsorize(predict$age, probs = c(0, 0.95))"
   ]
  },
  {
   "cell_type": "markdown",
   "metadata": {},
   "source": [
    "#### 2.2.5 Checking for Imbalance in the Target Variable"
   ]
  },
  {
   "cell_type": "code",
   "execution_count": 33,
   "metadata": {
    "scrolled": false
   },
   "outputs": [
    {
     "data": {
      "text/plain": [
       "\n",
       "   0    1 \n",
       "0.88 0.12 "
      ]
     },
     "metadata": {},
     "output_type": "display_data"
    }
   ],
   "source": [
    "round(prop.table(table(data$subscribe)), 2)"
   ]
  },
  {
   "cell_type": "code",
   "execution_count": 141,
   "metadata": {},
   "outputs": [
    {
     "data": {
      "image/png": "[encoded data removed]",
      "text/plain": [
       "plot without title"
      ]
     },
     "metadata": {},
     "output_type": "display_data"
    }
   ],
   "source": [
    "tbl <- with(data, table(subscribe))\n",
    "barplot(tbl, beside = TRUE, col = \"darkred\")\n",
    "\n",
    "#Oversampling is done while setting up the cross validation process"
   ]
  },
  {
   "cell_type": "markdown",
   "metadata": {},
   "source": [
    "<br>\n",
    "<br>\n",
    "<br>\n",
    "<br>\n",
    "<br>\n",
    "\n",
    "## <center> 3. Standardization"
   ]
  },
  {
   "cell_type": "code",
   "execution_count": 99,
   "metadata": {},
   "outputs": [],
   "source": [
    "#Treating missing columns in the prediction set\n",
    "dv_list <- c('subscribe')  # DV list\n",
    "std_list <- setdiff(names(train), dv_list)  # IV list excluded DV\n",
    "\n",
    "for (v in std_list){\n",
    "    if (v %notin% names(predict)) {\n",
    "        predict[,v] = 0\n",
    "    } \n",
    "}"
   ]
  },
  {
   "cell_type": "code",
   "execution_count": 100,
   "metadata": {},
   "outputs": [],
   "source": [
    "train_std <- train\n",
    "test_std <- test \n",
    "predict_std <- predict\n",
    "\n",
    "dv_list <- c('subscribe')  # DV list\n",
    "std_list <- setdiff(names(train_std), dv_list)  # IV list excluded DV\n",
    "std_list <- setdiff(std_list, 'client_id')  # Excluded the client_idb\n",
    "\n",
    "\n",
    "for (v in std_list) {\n",
    "    train_std[, v] <- scale(train_std[, v], center=T, scale=T)  # sd = 1, mean = 0\n",
    "    test_std[, v] <- scale(test_std[, v], center=T, scale=T)  # sd = 1, mean = 0\n",
    "    predict_std[, v] <- scale(predict_std[, v], center=T, scale=T)  # sd = 1, mean = 0\n",
    "}"
   ]
  },
  {
   "cell_type": "markdown",
   "metadata": {},
   "source": [
    "<br>\n",
    "<br>\n",
    "<br>\n",
    "<br>\n",
    "<br>\n",
    "\n",
    "## <center> 4. Feature Selection"
   ]
  },
  {
   "cell_type": "code",
   "execution_count": 101,
   "metadata": {},
   "outputs": [],
   "source": [
    "FisherScore <- function(basetable, depvar, IV_list) {\n",
    "  \n",
    "  # Get the unique values of dependent variable\n",
    "  DV <- unique(basetable[, depvar])\n",
    "  \n",
    "  IV_FisherScore <- c()\n",
    "  \n",
    "  for (v in IV_list) {\n",
    "    fs <- abs((mean(basetable[which(basetable[, depvar]==DV[1]), v]) - mean(basetable[which(basetable[, depvar]==DV[2]), v]))) /\n",
    "      sqrt((var(basetable[which(basetable[, depvar]==DV[1]), v]) + var(basetable[which(basetable[, depvar]==DV[2]), v])))\n",
    "    IV_FisherScore <- c(IV_FisherScore, fs)\n",
    "  }\n",
    "  \n",
    "  return(data.frame(IV=IV_list, fisher_score=IV_FisherScore))\n",
    "}\n",
    "\n",
    "varSelectionFisher <- function(basetable, depvar, IV_list, num_select=20) {\n",
    "  \"\n",
    "  This function will calculate the Fisher score for all IVs and select the best\n",
    "  top IVs.\n",
    "\n",
    "  Assumption: all variables of input dataset are converted into numeric type.\n",
    "  \"\n",
    "  \n",
    "  fs <- FisherScore(basetable, depvar, IV_list)  # Calculate Fisher Score for all IVs\n",
    "  num_select <- min(num_select, ncol(basetable))  # Top N IVs to be selected\n",
    "  return(as.vector(fs[order(fs$fisher_score, decreasing=T), ][1:num_select, 'IV']))\n",
    "}"
   ]
  },
  {
   "cell_type": "code",
   "execution_count": 102,
   "metadata": {
    "scrolled": true
   },
   "outputs": [
    {
     "data": {
      "text/html": [
       "<table>\n",
       "<thead><tr><th scope=col>IV</th><th scope=col>fisher_score</th></tr></thead>\n",
       "<tbody>\n",
       "\t<tr><td>age           </td><td>0.01142089    </td></tr>\n",
       "\t<tr><td>campaign      </td><td>0.11588688    </td></tr>\n",
       "\t<tr><td>pdays         </td><td>0.43319908    </td></tr>\n",
       "\t<tr><td>previous      </td><td>0.36412613    </td></tr>\n",
       "\t<tr><td>emp.var.rate  </td><td>0.65763389    </td></tr>\n",
       "\t<tr><td>cons.price.idx</td><td>0.28478531    </td></tr>\n",
       "</tbody>\n",
       "</table>\n"
      ],
      "text/latex": [
       "\\begin{tabular}{r|ll}\n",
       " IV & fisher\\_score\\\\\n",
       "\\hline\n",
       "\t age            & 0.01142089    \\\\\n",
       "\t campaign       & 0.11588688    \\\\\n",
       "\t pdays          & 0.43319908    \\\\\n",
       "\t previous       & 0.36412613    \\\\\n",
       "\t emp.var.rate   & 0.65763389    \\\\\n",
       "\t cons.price.idx & 0.28478531    \\\\\n",
       "\\end{tabular}\n"
      ],
      "text/markdown": [
       "\n",
       "| IV | fisher_score |\n",
       "|---|---|\n",
       "| age            | 0.01142089     |\n",
       "| campaign       | 0.11588688     |\n",
       "| pdays          | 0.43319908     |\n",
       "| previous       | 0.36412613     |\n",
       "| emp.var.rate   | 0.65763389     |\n",
       "| cons.price.idx | 0.28478531     |\n",
       "\n"
      ],
      "text/plain": [
       "  IV             fisher_score\n",
       "1 age            0.01142089  \n",
       "2 campaign       0.11588688  \n",
       "3 pdays          0.43319908  \n",
       "4 previous       0.36412613  \n",
       "5 emp.var.rate   0.65763389  \n",
       "6 cons.price.idx 0.28478531  "
      ]
     },
     "metadata": {},
     "output_type": "display_data"
    }
   ],
   "source": [
    "# Calculate Fisher Score for all variable\n",
    "# Get the IV and DV list\n",
    "dv_list <- c('subscribe')  # DV list\n",
    "iv_list <- setdiff(names(train), dv_list)  # IV list excluded DV\n",
    "iv_list <- setdiff(iv_list, 'client_id')  # Excluded the client_id\n",
    "fs <- FisherScore(train, dv_list, iv_list)\n",
    "head(fs)"
   ]
  },
  {
   "cell_type": "code",
   "execution_count": 103,
   "metadata": {},
   "outputs": [
    {
     "data": {
      "text/html": [
       "<ol class=list-inline>\n",
       "\t<li>'nr.employed'</li>\n",
       "\t<li>'euribor3m'</li>\n",
       "\t<li>'emp.var.rate'</li>\n",
       "\t<li>'pdays'</li>\n",
       "\t<li>'contact.cellular'</li>\n",
       "\t<li>'previous'</li>\n",
       "\t<li>'poutcome.nonexistent'</li>\n",
       "\t<li>'cons.price.idx'</li>\n",
       "\t<li>'month.may'</li>\n",
       "\t<li>'month.oct'</li>\n",
       "</ol>\n"
      ],
      "text/latex": [
       "\\begin{enumerate*}\n",
       "\\item 'nr.employed'\n",
       "\\item 'euribor3m'\n",
       "\\item 'emp.var.rate'\n",
       "\\item 'pdays'\n",
       "\\item 'contact.cellular'\n",
       "\\item 'previous'\n",
       "\\item 'poutcome.nonexistent'\n",
       "\\item 'cons.price.idx'\n",
       "\\item 'month.may'\n",
       "\\item 'month.oct'\n",
       "\\end{enumerate*}\n"
      ],
      "text/markdown": [
       "1. 'nr.employed'\n",
       "2. 'euribor3m'\n",
       "3. 'emp.var.rate'\n",
       "4. 'pdays'\n",
       "5. 'contact.cellular'\n",
       "6. 'previous'\n",
       "7. 'poutcome.nonexistent'\n",
       "8. 'cons.price.idx'\n",
       "9. 'month.may'\n",
       "10. 'month.oct'\n",
       "\n",
       "\n"
      ],
      "text/plain": [
       " [1] \"nr.employed\"          \"euribor3m\"            \"emp.var.rate\"        \n",
       " [4] \"pdays\"                \"contact.cellular\"     \"previous\"            \n",
       " [7] \"poutcome.nonexistent\" \"cons.price.idx\"       \"month.may\"           \n",
       "[10] \"month.oct\"           "
      ]
     },
     "metadata": {},
     "output_type": "display_data"
    }
   ],
   "source": [
    "# Select top 20 variables according to the Fisher Score\n",
    "best_fs_var <- varSelectionFisher(train, dv_list, iv_list, num_select=20)\n",
    "head(best_fs_var, 10)"
   ]
  },
  {
   "cell_type": "code",
   "execution_count": 104,
   "metadata": {},
   "outputs": [],
   "source": [
    "# Apply variable selection to the data\n",
    "# Train\n",
    "var_select <- names(train)[names(train) %in% best_fs_var]\n",
    "train_processed <- train[, c('client_id', var_select, 'subscribe')]\n",
    "train_processed_std <- train_std[, c('client_id', var_select, 'subscribe')]  #standardised train set\n",
    "\n",
    "# Test\n",
    "var_select <- names(test)[names(test) %in% best_fs_var]\n",
    "test_processed <- test[, c('client_id', var_select, 'subscribe')]\n",
    "test_processed_std <- test_std[, c('client_id', var_select, 'subscribe')]    #standardised test set\n",
    "\n",
    "# Predict\n",
    "var_select <- names(test)[names(test) %in% best_fs_var]\n",
    "predict_processed <- predict[, c('client_id', var_select)]\n",
    "predict_processed_std <- predict_std[, c('client_id', var_select)]           #standardised prediction set"
   ]
  },
  {
   "cell_type": "markdown",
   "metadata": {},
   "source": [
    "<br>\n",
    "<br>\n",
    "<br>\n",
    "<br>\n",
    "<br>\n",
    "\n",
    "## <center> 4. Algorithms"
   ]
  },
  {
   "cell_type": "markdown",
   "metadata": {},
   "source": [
    "#### 4.1 Logistic Regression"
   ]
  },
  {
   "cell_type": "code",
   "execution_count": 105,
   "metadata": {
    "scrolled": true
   },
   "outputs": [],
   "source": [
    "#Training the model and testing its performance\n",
    "glm.fit = glm(subscribe~.,family=binomial(link='logit'),data=train_processed_std)\n",
    "p_test <- predict(glm.fit, newdata=test_processed_std, type=\"response\")\n",
    "\n",
    "#Running the model on the Holdout Set\n",
    "predicted.results = predict(glm.fit,newdata=predict_processed_std, type = \"response\")\n",
    "predicted.results = data.frame(predicted.results)"
   ]
  },
  {
   "cell_type": "code",
   "execution_count": 106,
   "metadata": {},
   "outputs": [
    {
     "data": {
      "text/html": [
       "0.810117168161054"
      ],
      "text/latex": [
       "0.810117168161054"
      ],
      "text/markdown": [
       "0.810117168161054"
      ],
      "text/plain": [
       "[1] 0.8101172"
      ]
     },
     "metadata": {},
     "output_type": "display_data"
    }
   ],
   "source": [
    "#Evaluating the Performance of the Model \n",
    "pr <- prediction(p_test, test_processed$subscribe)\n",
    "prf <- ROCR::performance(pr, measure = \"tpr\", x.measure = \"fpr\")\n",
    "#plot(prf)\n",
    "\n",
    "auc <- ROCR::performance(pr, measure = \"auc\")\n",
    "auc <- auc@y.values[[1]]\n",
    "auc"
   ]
  },
  {
   "cell_type": "markdown",
   "metadata": {},
   "source": [
    "#### 4.2 Random Forest"
   ]
  },
  {
   "cell_type": "code",
   "execution_count": 56,
   "metadata": {
    "scrolled": true
   },
   "outputs": [
    {
     "name": "stderr",
     "output_type": "stream",
     "text": [
      "[Tune] Started tuning learner classif.randomForest for parameter set:\n",
      "          Type len Def               Constr Req Tunable Trafo\n",
      "ntree discrete   -   - 100,250,500,750,1000   -    TRUE     -\n",
      "mtry  discrete   -   -          1,2,3,5,6,9   -    TRUE     -\n",
      "With control class: TuneControlGrid\n",
      "Imputation value: -0\n",
      "[Tune-x] 1: ntree=100; mtry=1\n",
      "[Tune-y] 1: auc.test.mean=0.7393914; time: 0.0 min\n",
      "[Tune-x] 2: ntree=250; mtry=1\n",
      "[Tune-y] 2: auc.test.mean=0.7482690; time: 0.1 min\n",
      "[Tune-x] 3: ntree=500; mtry=1\n",
      "[Tune-y] 3: auc.test.mean=0.7508351; time: 0.1 min\n",
      "[Tune-x] 4: ntree=750; mtry=1\n",
      "[Tune-y] 4: auc.test.mean=0.7547151; time: 0.2 min\n",
      "[Tune-x] 5: ntree=1000; mtry=1\n",
      "[Tune-y] 5: auc.test.mean=0.7555304; time: 0.2 min\n",
      "[Tune-x] 6: ntree=100; mtry=2\n",
      "[Tune-y] 6: auc.test.mean=0.7629422; time: 0.0 min\n",
      "[Tune-x] 7: ntree=250; mtry=2\n",
      "[Tune-y] 7: auc.test.mean=0.7585109; time: 0.1 min\n",
      "[Tune-x] 8: ntree=500; mtry=2\n",
      "[Tune-y] 8: auc.test.mean=0.7641980; time: 0.2 min\n",
      "[Tune-x] 9: ntree=750; mtry=2\n",
      "[Tune-y] 9: auc.test.mean=0.7652958; time: 0.2 min\n",
      "[Tune-x] 10: ntree=1000; mtry=2\n",
      "[Tune-y] 10: auc.test.mean=0.7662359; time: 0.3 min\n",
      "[Tune-x] 11: ntree=100; mtry=3\n",
      "[Tune-y] 11: auc.test.mean=0.7568587; time: 0.0 min\n",
      "[Tune-x] 12: ntree=250; mtry=3\n",
      "[Tune-y] 12: auc.test.mean=0.7582354; time: 0.1 min\n",
      "[Tune-x] 13: ntree=500; mtry=3\n",
      "[Tune-y] 13: auc.test.mean=0.7658181; time: 0.2 min\n",
      "[Tune-x] 14: ntree=750; mtry=3\n",
      "[Tune-y] 14: auc.test.mean=0.7748251; time: 0.3 min\n",
      "[Tune-x] 15: ntree=1000; mtry=3\n",
      "[Tune-y] 15: auc.test.mean=0.7733795; time: 0.4 min\n",
      "[Tune-x] 16: ntree=100; mtry=5\n",
      "[Tune-y] 16: auc.test.mean=0.7665453; time: 0.0 min\n",
      "[Tune-x] 17: ntree=250; mtry=5\n",
      "[Tune-y] 17: auc.test.mean=0.7686633; time: 0.1 min\n",
      "[Tune-x] 18: ntree=500; mtry=5\n",
      "[Tune-y] 18: auc.test.mean=0.7726524; time: 0.2 min\n",
      "[Tune-x] 19: ntree=750; mtry=5\n",
      "[Tune-y] 19: auc.test.mean=0.7755929; time: 0.3 min\n",
      "[Tune-x] 20: ntree=1000; mtry=5\n",
      "[Tune-y] 20: auc.test.mean=0.7788091; time: 0.5 min\n",
      "[Tune-x] 21: ntree=100; mtry=6\n",
      "[Tune-y] 21: auc.test.mean=0.7694612; time: 0.0 min\n",
      "[Tune-x] 22: ntree=250; mtry=6\n",
      "[Tune-y] 22: auc.test.mean=0.7668783; time: 0.1 min\n",
      "[Tune-x] 23: ntree=500; mtry=6\n",
      "[Tune-y] 23: auc.test.mean=0.7750762; time: 0.2 min\n",
      "[Tune-x] 24: ntree=750; mtry=6\n",
      "[Tune-y] 24: auc.test.mean=0.7765543; time: 0.4 min\n",
      "[Tune-x] 25: ntree=1000; mtry=6\n",
      "[Tune-y] 25: auc.test.mean=0.7778019; time: 0.5 min\n",
      "[Tune-x] 26: ntree=100; mtry=9\n",
      "[Tune-y] 26: auc.test.mean=0.7644868; time: 0.1 min\n",
      "[Tune-x] 27: ntree=250; mtry=9\n",
      "[Tune-y] 27: auc.test.mean=0.7697399; time: 0.1 min\n",
      "[Tune-x] 28: ntree=500; mtry=9\n",
      "[Tune-y] 28: auc.test.mean=0.7689136; time: 0.3 min\n",
      "[Tune-x] 29: ntree=750; mtry=9\n",
      "[Tune-y] 29: auc.test.mean=0.7704610; time: 0.4 min\n",
      "[Tune-x] 30: ntree=1000; mtry=9\n",
      "[Tune-y] 30: auc.test.mean=0.7719378; time: 0.5 min\n",
      "[Tune] Result: ntree=1000; mtry=5 : auc.test.mean=0.7788091\n"
     ]
    }
   ],
   "source": [
    "# Set up cross-validation\n",
    "rdesc = makeResampleDesc(\"CV\", iters=5)\n",
    "\n",
    "# Define the model\n",
    "learner <- makeLearner(\"classif.randomForest\", predict.type=\"prob\", fix.factors.prediction=T)\n",
    "\n",
    "# Define the task\n",
    "train_task <- makeClassifTask(id=\"bank_train\", data=train_processed[, -1], target=\"subscribe\")\n",
    "\n",
    "# Set hyper parameter tuning\n",
    "tune_params <- makeParamSet(\n",
    "  makeDiscreteParam('ntree', value=c(100, 250, 500, 750, 1000)),\n",
    "  makeDiscreteParam('mtry', value=round(sqrt((ncol(train_processed)-1) * c(0.1, 0.25, 0.5, 1, 2, 4))))\n",
    ")\n",
    "ctrl = makeTuneControlGrid()\n",
    "\n",
    "# Run the hyper parameter tuning with k-fold CV\n",
    "if (length(tune_params$pars) > 0) {\n",
    "    # Run parameter tuning\n",
    "    res <- tuneParams(learner, task=train_task, resampling=rdesc,\n",
    "     par.set=tune_params, control=ctrl, measures=list(mlr::auc))\n",
    "    \n",
    "    # Extract best model\n",
    "    best_learner <- res$learner\n",
    "    \n",
    "} else {\n",
    "    # Simple cross-validation\n",
    "    res <- resample(learner, train_task, rdesc, measures=list(mlr::auc))\n",
    "    \n",
    "    # No parameter for tuning, only 1 best learner\n",
    "    best_learner <- learner\n",
    "}"
   ]
  },
  {
   "cell_type": "code",
   "execution_count": 64,
   "metadata": {
    "scrolled": true
   },
   "outputs": [
    {
     "data": {
      "text/html": [
       "<strong>auc:</strong> 0.791140326750646"
      ],
      "text/latex": [
       "\\textbf{auc:} 0.791140326750646"
      ],
      "text/markdown": [
       "**auc:** 0.791140326750646"
      ],
      "text/plain": [
       "      auc \n",
       "0.7911403 "
      ]
     },
     "metadata": {},
     "output_type": "display_data"
    }
   ],
   "source": [
    "# Retrain the model with tbe best hyper-parameters\n",
    "best_md <- mlr::train(best_learner, train_task)\n",
    "\n",
    "# Make prediction on valid data\n",
    "pred <- predict(best_md, newdata=test_processed[, -1])\n",
    "mlr::performance(pred, measures= mlr::auc)"
   ]
  },
  {
   "cell_type": "markdown",
   "metadata": {},
   "source": [
    "#### 4.3 K-Nearest Neighbours"
   ]
  },
  {
   "cell_type": "code",
   "execution_count": 124,
   "metadata": {
    "scrolled": true
   },
   "outputs": [
    {
     "name": "stderr",
     "output_type": "stream",
     "text": [
      "[Tune] Started tuning learner classif.kknn for parameter set:\n",
      "      Type len Def                            Constr Req Tunable Trafo\n",
      "k discrete   -   - 2,3,4,5,6,7,8,9,10,11,12,13,14,15   -    TRUE     -\n",
      "With control class: TuneControlGrid\n",
      "Imputation value: -0\n",
      "[Tune-x] 1: k=2\n",
      "[Tune-y] 1: auc.test.mean=0.6856570; time: 0.0 min\n",
      "[Tune-x] 2: k=3\n",
      "[Tune-y] 2: auc.test.mean=0.7061354; time: 0.0 min\n",
      "[Tune-x] 3: k=4\n",
      "[Tune-y] 3: auc.test.mean=0.7180844; time: 0.0 min\n",
      "[Tune-x] 4: k=5\n",
      "[Tune-y] 4: auc.test.mean=0.7274098; time: 0.0 min\n",
      "[Tune-x] 5: k=6\n",
      "[Tune-y] 5: auc.test.mean=0.7349128; time: 0.0 min\n",
      "[Tune-x] 6: k=7\n",
      "[Tune-y] 6: auc.test.mean=0.7402761; time: 0.0 min\n",
      "[Tune-x] 7: k=8\n",
      "[Tune-y] 7: auc.test.mean=0.7413902; time: 0.0 min\n",
      "[Tune-x] 8: k=9\n",
      "[Tune-y] 8: auc.test.mean=0.7448776; time: 0.0 min\n",
      "[Tune-x] 9: k=10\n",
      "[Tune-y] 9: auc.test.mean=0.7452591; time: 0.0 min\n",
      "[Tune-x] 10: k=11\n",
      "[Tune-y] 10: auc.test.mean=0.7494795; time: 0.0 min\n",
      "[Tune-x] 11: k=12\n",
      "[Tune-y] 11: auc.test.mean=0.7527436; time: 0.0 min\n",
      "[Tune-x] 12: k=13\n",
      "[Tune-y] 12: auc.test.mean=0.7548665; time: 0.0 min\n",
      "[Tune-x] 13: k=14\n",
      "[Tune-y] 13: auc.test.mean=0.7588876; time: 0.0 min\n",
      "[Tune-x] 14: k=15\n",
      "[Tune-y] 14: auc.test.mean=0.7584501; time: 0.0 min\n",
      "[Tune] Result: k=14 : auc.test.mean=0.7588876\n"
     ]
    }
   ],
   "source": [
    "# Set up cross-validation\n",
    "rdesc = makeResampleDesc(\"CV\", iters=10)\n",
    "\n",
    "# Define the model\n",
    "learner <- makeLearner(\"classif.kknn\", predict.type=\"prob\", fix.factors.prediction=T)\n",
    "\n",
    "# Define the task\n",
    "train_task <- makeClassifTask(id=\"bank_train\", data=train_processed[, -1], target=\"subscribe\")\n",
    "\n",
    "# Set hyper parameter tuning\n",
    "tune_params <- makeParamSet(\n",
    "    makeDiscreteParam('k', value=c(2:15))\n",
    ")\n",
    "ctrl = makeTuneControlGrid()\n",
    "\n",
    "# Run the hyper parameter tuning with k-fold CV\n",
    "if (length(tune_params$pars) > 0) {\n",
    "    # Run parameter tuning\n",
    "    res <- tuneParams(learner, task=train_task, resampling=rdesc,\n",
    "     par.set=tune_params, control=ctrl, measures=list(mlr::auc))\n",
    "    \n",
    "    # Extract best model\n",
    "    best_learner <- res$learner\n",
    "    \n",
    "} else {\n",
    "    # Simple cross-validation\n",
    "    res <- resample(learner, train_task, rdesc, measures=list(mlr::auc))\n",
    "    \n",
    "    # No parameter for tuning, only 1 best learner\n",
    "    best_learner <- learner\n",
    "}"
   ]
  },
  {
   "cell_type": "code",
   "execution_count": 125,
   "metadata": {},
   "outputs": [
    {
     "data": {
      "text/html": [
       "<strong>auc:</strong> 0.742222344463392"
      ],
      "text/latex": [
       "\\textbf{auc:} 0.742222344463392"
      ],
      "text/markdown": [
       "**auc:** 0.742222344463392"
      ],
      "text/plain": [
       "      auc \n",
       "0.7422223 "
      ]
     },
     "metadata": {},
     "output_type": "display_data"
    }
   ],
   "source": [
    "# Retrain the model with tbe best hyper-parameters\n",
    "best_md <- mlr::train(best_learner, train_task)\n",
    "\n",
    "# Make prediction on valid data\n",
    "pred <- predict(best_md, newdata=test_processed[, -1])\n",
    "mlr::performance(pred, measures= mlr::auc)"
   ]
  },
  {
   "cell_type": "markdown",
   "metadata": {},
   "source": [
    "#### 4.4 LDA"
   ]
  },
  {
   "cell_type": "code",
   "execution_count": 127,
   "metadata": {},
   "outputs": [
    {
     "name": "stderr",
     "output_type": "stream",
     "text": [
      "Resampling: cross-validation\n",
      "Measures:             auc       \n",
      "[Resample] iter 1:    0.7915663 \n",
      "[Resample] iter 2:    0.8019344 \n",
      "[Resample] iter 3:    0.7728774 \n",
      "[Resample] iter 4:    0.8114542 \n",
      "[Resample] iter 5:    0.8007002 \n",
      "[Resample] iter 6:    0.7371684 \n",
      "[Resample] iter 7:    0.7781523 \n",
      "[Resample] iter 8:    0.7524611 \n",
      "[Resample] iter 9:    0.7478682 \n",
      "[Resample] iter 10:   0.7768932 \n",
      "\n",
      "\n",
      "Aggregated Result: auc.test.mean=0.7771076\n",
      "\n",
      "\n"
     ]
    }
   ],
   "source": [
    "# Set up cross-validation\n",
    "rdesc = makeResampleDesc(\"CV\", iters=10)\n",
    "\n",
    "# Define the model\n",
    "learner <- makeLearner(\"classif.lda\", predict.type=\"prob\", fix.factors.prediction=T)\n",
    "\n",
    "# Define the task\n",
    "train_task <- makeClassifTask(id=\"bank_train\", data=train_processed[, -1], target=\"subscribe\")\n",
    "\n",
    "# Set hyper parameter tuning\n",
    "tune_params <- makeParamSet(\n",
    ")\n",
    "ctrl = makeTuneControlGrid()\n",
    "\n",
    "# Run the hyper parameter tuning with k-fold CV\n",
    "if (length(tune_params$pars) > 0) {\n",
    "    # Run parameter tuning\n",
    "    res <- tuneParams(learner, task=train_task, resampling=rdesc,\n",
    "     par.set=tune_params, control=ctrl, measures=list(mlr::auc))\n",
    "    \n",
    "    # Extract best model\n",
    "    best_learner <- res$learner\n",
    "    \n",
    "} else {\n",
    "    # Simple cross-validation\n",
    "    res <- resample(learner, train_task, rdesc, measures=list(mlr::auc))\n",
    "    \n",
    "    # No parameter for tuning, only 1 best learner\n",
    "    best_learner <- learner\n",
    "}"
   ]
  },
  {
   "cell_type": "code",
   "execution_count": 128,
   "metadata": {},
   "outputs": [
    {
     "data": {
      "text/html": [
       "<strong>auc:</strong> 0.801261895593817"
      ],
      "text/latex": [
       "\\textbf{auc:} 0.801261895593817"
      ],
      "text/markdown": [
       "**auc:** 0.801261895593817"
      ],
      "text/plain": [
       "      auc \n",
       "0.8012619 "
      ]
     },
     "metadata": {},
     "output_type": "display_data"
    }
   ],
   "source": [
    "# Retrain the model with tbe best hyper-parameters\n",
    "best_md <- mlr::train(best_learner, train_task)\n",
    "\n",
    "# Make prediction on valid data\n",
    "pred <- predict(best_md, newdata=test_processed[, -1])\n",
    "mlr::performance(pred, measures= mlr::auc)"
   ]
  },
  {
   "cell_type": "markdown",
   "metadata": {},
   "source": [
    "#### 4.5 QDA\n"
   ]
  },
  {
   "cell_type": "code",
   "execution_count": 130,
   "metadata": {},
   "outputs": [
    {
     "name": "stderr",
     "output_type": "stream",
     "text": [
      "Resampling: cross-validation\n",
      "Measures:             auc       \n",
      "[Resample] iter 1:    0.7723700 \n",
      "[Resample] iter 2:    0.7414267 \n",
      "[Resample] iter 3:    0.7600418 \n",
      "[Resample] iter 4:    0.7756753 \n",
      "[Resample] iter 5:    0.7609568 \n",
      "[Resample] iter 6:    0.7654842 \n",
      "[Resample] iter 7:    0.7602867 \n",
      "[Resample] iter 8:    0.7809415 \n",
      "[Resample] iter 9:    0.8376484 \n",
      "[Resample] iter 10:   0.7763439 \n",
      "\n",
      "\n",
      "Aggregated Result: auc.test.mean=0.7731175\n",
      "\n",
      "\n"
     ]
    }
   ],
   "source": [
    "# Set up cross-validation\n",
    "rdesc = makeResampleDesc(\"CV\", iters=10)\n",
    "\n",
    "# Define the model\n",
    "learner <- makeLearner(\"classif.qda\", predict.type=\"prob\", fix.factors.prediction=T)\n",
    "\n",
    "# Define the task\n",
    "train_task <- makeClassifTask(id=\"bank_train\", data=train_processed[, -1], target=\"subscribe\")\n",
    "\n",
    "# Set hyper parameter tuning\n",
    "tune_params <- makeParamSet(\n",
    ")\n",
    "ctrl = makeTuneControlGrid()\n",
    "\n",
    "# Run the hyper parameter tuning with k-fold CV\n",
    "if (length(tune_params$pars) > 0) {\n",
    "    # Run parameter tuning\n",
    "    res <- tuneParams(learner, task=train_task, resampling=rdesc,\n",
    "     par.set=tune_params, control=ctrl, measures=list(mlr::auc))\n",
    "    \n",
    "    # Extract best model\n",
    "    best_learner <- res$learner\n",
    "    \n",
    "} else {\n",
    "    # Simple cross-validation\n",
    "    res <- resample(learner, train_task, rdesc, measures=list(mlr::auc))\n",
    "    \n",
    "    # No parameter for tuning, only 1 best learner\n",
    "    best_learner <- learner\n",
    "}"
   ]
  },
  {
   "cell_type": "code",
   "execution_count": 131,
   "metadata": {},
   "outputs": [
    {
     "data": {
      "text/html": [
       "<strong>auc:</strong> 0.802958358545575"
      ],
      "text/latex": [
       "\\textbf{auc:} 0.802958358545575"
      ],
      "text/markdown": [
       "**auc:** 0.802958358545575"
      ],
      "text/plain": [
       "      auc \n",
       "0.8029584 "
      ]
     },
     "metadata": {},
     "output_type": "display_data"
    }
   ],
   "source": [
    "# Retrain the model with tbe best hyper-parameters\n",
    "best_md <- mlr::train(best_learner, train_task)\n",
    "\n",
    "# Make prediction on valid data\n",
    "pred <- predict(best_md, newdata=test_processed[, -1])\n",
    "mlr::performance(pred, measures= mlr::auc)"
   ]
  },
  {
   "cell_type": "markdown",
   "metadata": {},
   "source": [
    "#### 4.6 XGBoost"
   ]
  },
  {
   "cell_type": "code",
   "execution_count": 134,
   "metadata": {},
   "outputs": [
    {
     "name": "stderr",
     "output_type": "stream",
     "text": [
      "[Tune] Started tuning learner classif.xgboost for parameter set:\n",
      "                     Type len Def            Constr Req Tunable Trafo\n",
      "gamma            discrete   -   - 0,0.1,0.2,0.3,0.4   -    TRUE     -\n",
      "min_child_weight discrete   -   -           1,3,5,7   -    TRUE     -\n",
      "With control class: TuneControlGrid\n",
      "Imputation value: -0\n",
      "[Tune-x] 1: gamma=0; min_child_weight=1\n",
      "[Tune-y] 1: auc.test.mean=0.7651838; time: 0.0 min\n",
      "[Tune-x] 2: gamma=0.1; min_child_weight=1\n",
      "[Tune-y] 2: auc.test.mean=0.7651640; time: 0.0 min\n",
      "[Tune-x] 3: gamma=0.2; min_child_weight=1\n",
      "[Tune-y] 3: auc.test.mean=0.7651671; time: 0.0 min\n",
      "[Tune-x] 4: gamma=0.3; min_child_weight=1\n",
      "[Tune-y] 4: auc.test.mean=0.7649555; time: 0.0 min\n",
      "[Tune-x] 5: gamma=0.4; min_child_weight=1\n",
      "[Tune-y] 5: auc.test.mean=0.7649835; time: 0.0 min\n",
      "[Tune-x] 6: gamma=0; min_child_weight=3\n",
      "[Tune-y] 6: auc.test.mean=0.7609404; time: 0.0 min\n",
      "[Tune-x] 7: gamma=0.1; min_child_weight=3\n",
      "[Tune-y] 7: auc.test.mean=0.7609034; time: 0.0 min\n",
      "[Tune-x] 8: gamma=0.2; min_child_weight=3\n",
      "[Tune-y] 8: auc.test.mean=0.7610078; time: 0.0 min\n",
      "[Tune-x] 9: gamma=0.3; min_child_weight=3\n",
      "[Tune-y] 9: auc.test.mean=0.7608091; time: 0.0 min\n",
      "[Tune-x] 10: gamma=0.4; min_child_weight=3\n",
      "[Tune-y] 10: auc.test.mean=0.7608126; time: 0.0 min\n",
      "[Tune-x] 11: gamma=0; min_child_weight=5\n",
      "[Tune-y] 11: auc.test.mean=0.7642416; time: 0.0 min\n",
      "[Tune-x] 12: gamma=0.1; min_child_weight=5\n",
      "[Tune-y] 12: auc.test.mean=0.7642416; time: 0.0 min\n",
      "[Tune-x] 13: gamma=0.2; min_child_weight=5\n",
      "[Tune-y] 13: auc.test.mean=0.7643353; time: 0.0 min\n",
      "[Tune-x] 14: gamma=0.3; min_child_weight=5\n",
      "[Tune-y] 14: auc.test.mean=0.7642796; time: 0.0 min\n",
      "[Tune-x] 15: gamma=0.4; min_child_weight=5\n",
      "[Tune-y] 15: auc.test.mean=0.7641302; time: 0.0 min\n",
      "[Tune-x] 16: gamma=0; min_child_weight=7\n",
      "[Tune-y] 16: auc.test.mean=0.7640333; time: 0.0 min\n",
      "[Tune-x] 17: gamma=0.1; min_child_weight=7\n",
      "[Tune-y] 17: auc.test.mean=0.7640729; time: 0.0 min\n",
      "[Tune-x] 18: gamma=0.2; min_child_weight=7\n",
      "[Tune-y] 18: auc.test.mean=0.7641553; time: 0.0 min\n",
      "[Tune-x] 19: gamma=0.3; min_child_weight=7\n",
      "[Tune-y] 19: auc.test.mean=0.7641553; time: 0.0 min\n",
      "[Tune-x] 20: gamma=0.4; min_child_weight=7\n",
      "[Tune-y] 20: auc.test.mean=0.7638779; time: 0.0 min\n",
      "[Tune] Result: gamma=0; min_child_weight=1 : auc.test.mean=0.7651838\n"
     ]
    }
   ],
   "source": [
    "# Set up cross-validation\n",
    "rdesc = makeResampleDesc(\"CV\", iters=10)\n",
    "\n",
    "# Define the model\n",
    "learner <- makeLearner(\"classif.xgboost\", predict.type=\"prob\", fix.factors.prediction=T)\n",
    "\n",
    "# Define the task\n",
    "train_task <- makeClassifTask(id=\"bank_train\", data=train_processed[, -1], target=\"subscribe\")\n",
    "\n",
    "# Set hyper parameter tuning\n",
    "tune_params <- makeParamSet(\n",
    "    #makeDiscreteParam('max.depth', value=c(3, 4, 5, 6, 8, 10, 12, 15)),\n",
    "    makeDiscreteParam('gamma', value=c(0.0, 0.1, 0.2 , 0.3, 0.4)),\n",
    "    makeDiscreteParam('min_child_weight', value=c(1, 3, 5, 7))\n",
    ")\n",
    "ctrl = makeTuneControlGrid()\n",
    "\n",
    "# Run the hyper parameter tuning with k-fold CV\n",
    "if (length(tune_params$pars) > 0) {\n",
    "    # Run parameter tuning\n",
    "    res <- tuneParams(learner, task=train_task, resampling=rdesc,\n",
    "     par.set=tune_params, control=ctrl, measures=list(mlr::auc))\n",
    "    \n",
    "    # Extract best model\n",
    "    best_learner <- res$learner\n",
    "    \n",
    "} else {\n",
    "    # Simple cross-validation\n",
    "    res <- resample(learner, train_task, rdesc, measures=list(mlr::auc))\n",
    "    \n",
    "    # No parameter for tuning, only 1 best learner\n",
    "    best_learner <- learner\n",
    "}"
   ]
  },
  {
   "cell_type": "code",
   "execution_count": 135,
   "metadata": {},
   "outputs": [
    {
     "data": {
      "text/html": [
       "<strong>auc:</strong> 0.783695472798284"
      ],
      "text/latex": [
       "\\textbf{auc:} 0.783695472798284"
      ],
      "text/markdown": [
       "**auc:** 0.783695472798284"
      ],
      "text/plain": [
       "      auc \n",
       "0.7836955 "
      ]
     },
     "metadata": {},
     "output_type": "display_data"
    }
   ],
   "source": [
    "# Retrain the model with tbe best hyper-parameters\n",
    "best_md <- mlr::train(best_learner, train_task)\n",
    "\n",
    "# Make prediction on valid data\n",
    "pred <- predict(best_md, newdata=test_processed[, -1])\n",
    "mlr::performance(pred, measures= mlr::auc)"
   ]
  },
  {
   "cell_type": "markdown",
   "metadata": {},
   "source": [
    "#### 4.7 SVM"
   ]
  },
  {
   "cell_type": "code",
   "execution_count": 139,
   "metadata": {},
   "outputs": [
    {
     "name": "stderr",
     "output_type": "stream",
     "text": [
      "[Tune] Started tuning learner classif.svm for parameter set:\n",
      "          Type len Def                                   Constr Req Tunable\n",
      "gamma discrete   -   -                                        0   -    TRUE\n",
      "cost  discrete   -   - 1,2,3,4,5,6,7,8,9,10,11,12,13,14,15,1...   -    TRUE\n",
      "      Trafo\n",
      "gamma     -\n",
      "cost      -\n",
      "With control class: TuneControlGrid\n",
      "Imputation value: -0\n",
      "[Tune-x] 1: gamma=0; cost=1\n",
      "[Tune-y] 1: auc.test.mean=0.5000000; time: 0.2 min\n",
      "[Tune-x] 2: gamma=0; cost=2\n",
      "[Tune-y] 2: auc.test.mean=0.5000000; time: 0.2 min\n",
      "[Tune-x] 3: gamma=0; cost=3\n",
      "[Tune-y] 3: auc.test.mean=0.5000000; time: 0.2 min\n",
      "[Tune-x] 4: gamma=0; cost=4\n",
      "[Tune-y] 4: auc.test.mean=0.5000000; time: 0.2 min\n",
      "[Tune-x] 5: gamma=0; cost=5\n",
      "[Tune-y] 5: auc.test.mean=0.5000000; time: 0.2 min\n",
      "[Tune-x] 6: gamma=0; cost=6\n",
      "[Tune-y] 6: auc.test.mean=0.5000000; time: 0.2 min\n",
      "[Tune-x] 7: gamma=0; cost=7\n",
      "[Tune-y] 7: auc.test.mean=0.5000000; time: 0.2 min\n",
      "[Tune-x] 8: gamma=0; cost=8\n",
      "[Tune-y] 8: auc.test.mean=0.5000000; time: 0.2 min\n",
      "[Tune-x] 9: gamma=0; cost=9\n",
      "[Tune-y] 9: auc.test.mean=0.5000000; time: 0.2 min\n",
      "[Tune-x] 10: gamma=0; cost=10\n",
      "[Tune-y] 10: auc.test.mean=0.5000000; time: 0.2 min\n",
      "[Tune-x] 11: gamma=0; cost=11\n",
      "[Tune-y] 11: auc.test.mean=0.5000000; time: 0.2 min\n",
      "[Tune-x] 12: gamma=0; cost=12\n",
      "[Tune-y] 12: auc.test.mean=0.5000000; time: 0.2 min\n",
      "[Tune-x] 13: gamma=0; cost=13\n",
      "[Tune-y] 13: auc.test.mean=0.5000000; time: 0.2 min\n",
      "[Tune-x] 14: gamma=0; cost=14\n",
      "[Tune-y] 14: auc.test.mean=0.5000000; time: 0.2 min\n",
      "[Tune-x] 15: gamma=0; cost=15\n",
      "[Tune-y] 15: auc.test.mean=0.5000000; time: 0.2 min\n",
      "[Tune-x] 16: gamma=0; cost=16\n",
      "[Tune-y] 16: auc.test.mean=0.5000000; time: 0.2 min\n",
      "[Tune-x] 17: gamma=0; cost=17\n",
      "[Tune-y] 17: auc.test.mean=0.5000000; time: 0.2 min\n",
      "[Tune-x] 18: gamma=0; cost=18\n",
      "[Tune-y] 18: auc.test.mean=0.5000000; time: 0.2 min\n",
      "[Tune-x] 19: gamma=0; cost=19\n",
      "[Tune-y] 19: auc.test.mean=0.5000000; time: 0.2 min\n",
      "[Tune-x] 20: gamma=0; cost=20\n",
      "[Tune-y] 20: auc.test.mean=0.5000000; time: 0.2 min\n",
      "[Tune-x] 21: gamma=0; cost=21\n",
      "[Tune-y] 21: auc.test.mean=0.5000000; time: 0.2 min\n",
      "[Tune-x] 22: gamma=0; cost=22\n",
      "[Tune-y] 22: auc.test.mean=0.5000000; time: 0.2 min\n",
      "[Tune-x] 23: gamma=0; cost=23\n",
      "[Tune-y] 23: auc.test.mean=0.5000000; time: 0.2 min\n",
      "[Tune-x] 24: gamma=0; cost=24\n",
      "[Tune-y] 24: auc.test.mean=0.5000000; time: 0.2 min\n",
      "[Tune-x] 25: gamma=0; cost=25\n",
      "[Tune-y] 25: auc.test.mean=0.5000000; time: 0.2 min\n",
      "[Tune-x] 26: gamma=0; cost=26\n",
      "[Tune-y] 26: auc.test.mean=0.5000000; time: 0.2 min\n",
      "[Tune-x] 27: gamma=0; cost=27\n",
      "[Tune-y] 27: auc.test.mean=0.5000000; time: 0.2 min\n",
      "[Tune-x] 28: gamma=0; cost=28\n",
      "[Tune-y] 28: auc.test.mean=0.5000000; time: 0.2 min\n",
      "[Tune-x] 29: gamma=0; cost=29\n",
      "[Tune-y] 29: auc.test.mean=0.5000000; time: 0.2 min\n",
      "[Tune-x] 30: gamma=0; cost=30\n",
      "[Tune-y] 30: auc.test.mean=0.5000000; time: 0.2 min\n",
      "[Tune-x] 31: gamma=0; cost=31\n",
      "[Tune-y] 31: auc.test.mean=0.5000000; time: 0.2 min\n",
      "[Tune-x] 32: gamma=0; cost=32\n",
      "[Tune-y] 32: auc.test.mean=0.5000000; time: 0.2 min\n",
      "[Tune-x] 33: gamma=0; cost=33\n",
      "[Tune-y] 33: auc.test.mean=0.5000000; time: 0.2 min\n",
      "[Tune-x] 34: gamma=0; cost=34\n",
      "[Tune-y] 34: auc.test.mean=0.5000000; time: 0.2 min\n",
      "[Tune-x] 35: gamma=0; cost=35\n",
      "[Tune-y] 35: auc.test.mean=0.5000000; time: 0.2 min\n",
      "[Tune-x] 36: gamma=0; cost=36\n",
      "[Tune-y] 36: auc.test.mean=0.5000000; time: 0.2 min\n",
      "[Tune-x] 37: gamma=0; cost=37\n",
      "[Tune-y] 37: auc.test.mean=0.5000000; time: 0.2 min\n",
      "[Tune-x] 38: gamma=0; cost=38\n",
      "[Tune-y] 38: auc.test.mean=0.5000000; time: 0.2 min\n",
      "[Tune-x] 39: gamma=0; cost=39\n",
      "[Tune-y] 39: auc.test.mean=0.5000000; time: 0.2 min\n",
      "[Tune-x] 40: gamma=0; cost=40\n",
      "[Tune-y] 40: auc.test.mean=0.5000000; time: 0.2 min\n",
      "[Tune-x] 41: gamma=0; cost=41\n",
      "[Tune-y] 41: auc.test.mean=0.5000000; time: 0.2 min\n",
      "[Tune-x] 42: gamma=0; cost=42\n",
      "[Tune-y] 42: auc.test.mean=0.5000000; time: 0.2 min\n",
      "[Tune-x] 43: gamma=0; cost=43\n",
      "[Tune-y] 43: auc.test.mean=0.5000000; time: 0.2 min\n",
      "[Tune-x] 44: gamma=0; cost=44\n",
      "[Tune-y] 44: auc.test.mean=0.5000000; time: 0.2 min\n",
      "[Tune-x] 45: gamma=0; cost=45\n",
      "[Tune-y] 45: auc.test.mean=0.5000000; time: 0.2 min\n",
      "[Tune-x] 46: gamma=0; cost=46\n",
      "[Tune-y] 46: auc.test.mean=0.5000000; time: 0.2 min\n",
      "[Tune-x] 47: gamma=0; cost=47\n",
      "[Tune-y] 47: auc.test.mean=0.5000000; time: 0.2 min\n",
      "[Tune-x] 48: gamma=0; cost=48\n",
      "[Tune-y] 48: auc.test.mean=0.5000000; time: 0.2 min\n",
      "[Tune-x] 49: gamma=0; cost=49\n",
      "[Tune-y] 49: auc.test.mean=0.5000000; time: 0.2 min\n",
      "[Tune-x] 50: gamma=0; cost=50\n",
      "[Tune-y] 50: auc.test.mean=0.5000000; time: 0.2 min\n",
      "[Tune-x] 51: gamma=0; cost=51\n",
      "[Tune-y] 51: auc.test.mean=0.5000000; time: 0.2 min\n",
      "[Tune-x] 52: gamma=0; cost=52\n",
      "[Tune-y] 52: auc.test.mean=0.5000000; time: 0.2 min\n",
      "[Tune-x] 53: gamma=0; cost=53\n",
      "[Tune-y] 53: auc.test.mean=0.5000000; time: 0.2 min\n",
      "[Tune-x] 54: gamma=0; cost=54\n",
      "[Tune-y] 54: auc.test.mean=0.5000000; time: 0.2 min\n",
      "[Tune-x] 55: gamma=0; cost=55\n",
      "[Tune-y] 55: auc.test.mean=0.5000000; time: 0.2 min\n",
      "[Tune-x] 56: gamma=0; cost=56\n",
      "[Tune-y] 56: auc.test.mean=0.5000000; time: 0.2 min\n",
      "[Tune-x] 57: gamma=0; cost=57\n",
      "[Tune-y] 57: auc.test.mean=0.5000000; time: 0.2 min\n",
      "[Tune-x] 58: gamma=0; cost=58\n",
      "[Tune-y] 58: auc.test.mean=0.5000000; time: 0.2 min\n",
      "[Tune-x] 59: gamma=0; cost=59\n",
      "[Tune-y] 59: auc.test.mean=0.5000000; time: 0.2 min\n",
      "[Tune-x] 60: gamma=0; cost=60\n",
      "[Tune-y] 60: auc.test.mean=0.5000000; time: 0.2 min\n",
      "[Tune-x] 61: gamma=0; cost=61\n",
      "[Tune-y] 61: auc.test.mean=0.5000000; time: 0.2 min\n",
      "[Tune-x] 62: gamma=0; cost=62\n",
      "[Tune-y] 62: auc.test.mean=0.5000000; time: 0.2 min\n",
      "[Tune-x] 63: gamma=0; cost=63\n",
      "[Tune-y] 63: auc.test.mean=0.5000000; time: 0.2 min\n",
      "[Tune-x] 64: gamma=0; cost=64\n",
      "[Tune-y] 64: auc.test.mean=0.5000000; time: 0.2 min\n",
      "[Tune-x] 65: gamma=0; cost=65\n",
      "[Tune-y] 65: auc.test.mean=0.5000000; time: 0.2 min\n",
      "[Tune-x] 66: gamma=0; cost=66\n",
      "[Tune-y] 66: auc.test.mean=0.5000000; time: 0.2 min\n",
      "[Tune-x] 67: gamma=0; cost=67\n",
      "[Tune-y] 67: auc.test.mean=0.5000000; time: 0.2 min\n",
      "[Tune-x] 68: gamma=0; cost=68\n",
      "[Tune-y] 68: auc.test.mean=0.5000000; time: 0.2 min\n",
      "[Tune-x] 69: gamma=0; cost=69\n",
      "[Tune-y] 69: auc.test.mean=0.5000000; time: 0.2 min\n",
      "[Tune-x] 70: gamma=0; cost=70\n",
      "[Tune-y] 70: auc.test.mean=0.5000000; time: 0.2 min\n",
      "[Tune-x] 71: gamma=0; cost=71\n",
      "[Tune-y] 71: auc.test.mean=0.5000000; time: 0.2 min\n",
      "[Tune-x] 72: gamma=0; cost=72\n",
      "[Tune-y] 72: auc.test.mean=0.5000000; time: 0.2 min\n",
      "[Tune-x] 73: gamma=0; cost=73\n",
      "[Tune-y] 73: auc.test.mean=0.5000000; time: 0.2 min\n",
      "[Tune-x] 74: gamma=0; cost=74\n",
      "[Tune-y] 74: auc.test.mean=0.5000000; time: 0.2 min\n",
      "[Tune-x] 75: gamma=0; cost=75\n",
      "[Tune-y] 75: auc.test.mean=0.5000000; time: 0.2 min\n",
      "[Tune-x] 76: gamma=0; cost=76\n",
      "[Tune-y] 76: auc.test.mean=0.5000000; time: 0.2 min\n",
      "[Tune-x] 77: gamma=0; cost=77\n",
      "[Tune-y] 77: auc.test.mean=0.5000000; time: 0.2 min\n",
      "[Tune-x] 78: gamma=0; cost=78\n",
      "[Tune-y] 78: auc.test.mean=0.5000000; time: 0.2 min\n",
      "[Tune-x] 79: gamma=0; cost=79\n",
      "[Tune-y] 79: auc.test.mean=0.5000000; time: 0.2 min\n",
      "[Tune-x] 80: gamma=0; cost=80\n",
      "[Tune-y] 80: auc.test.mean=0.5000000; time: 0.2 min\n",
      "[Tune-x] 81: gamma=0; cost=81\n",
      "[Tune-y] 81: auc.test.mean=0.5000000; time: 0.2 min\n",
      "[Tune-x] 82: gamma=0; cost=82\n",
      "[Tune-y] 82: auc.test.mean=0.5000000; time: 0.2 min\n",
      "[Tune-x] 83: gamma=0; cost=83\n",
      "[Tune-y] 83: auc.test.mean=0.5000000; time: 0.2 min\n",
      "[Tune-x] 84: gamma=0; cost=84\n",
      "[Tune-y] 84: auc.test.mean=0.5000000; time: 0.2 min\n",
      "[Tune-x] 85: gamma=0; cost=85\n",
      "[Tune-y] 85: auc.test.mean=0.5000000; time: 0.2 min\n",
      "[Tune-x] 86: gamma=0; cost=86\n",
      "[Tune-y] 86: auc.test.mean=0.5000000; time: 0.2 min\n",
      "[Tune-x] 87: gamma=0; cost=87\n",
      "[Tune-y] 87: auc.test.mean=0.5000000; time: 0.2 min\n",
      "[Tune-x] 88: gamma=0; cost=88\n",
      "[Tune-y] 88: auc.test.mean=0.5000000; time: 0.2 min\n",
      "[Tune-x] 89: gamma=0; cost=89\n",
      "[Tune-y] 89: auc.test.mean=0.5000000; time: 0.2 min\n",
      "[Tune-x] 90: gamma=0; cost=90\n",
      "[Tune-y] 90: auc.test.mean=0.5000000; time: 0.2 min\n",
      "[Tune-x] 91: gamma=0; cost=91\n",
      "[Tune-y] 91: auc.test.mean=0.5000000; time: 0.2 min\n",
      "[Tune-x] 92: gamma=0; cost=92\n",
      "[Tune-y] 92: auc.test.mean=0.5000000; time: 0.2 min\n",
      "[Tune-x] 93: gamma=0; cost=93\n",
      "[Tune-y] 93: auc.test.mean=0.5000000; time: 0.2 min\n",
      "[Tune-x] 94: gamma=0; cost=94\n",
      "[Tune-y] 94: auc.test.mean=0.5000000; time: 0.2 min\n",
      "[Tune-x] 95: gamma=0; cost=95\n",
      "[Tune-y] 95: auc.test.mean=0.5000000; time: 0.2 min\n",
      "[Tune-x] 96: gamma=0; cost=96\n",
      "[Tune-y] 96: auc.test.mean=0.5000000; time: 0.2 min\n"
     ]
    },
    {
     "name": "stderr",
     "output_type": "stream",
     "text": [
      "[Tune-x] 97: gamma=0; cost=97\n",
      "[Tune-y] 97: auc.test.mean=0.5000000; time: 0.2 min\n",
      "[Tune-x] 98: gamma=0; cost=98\n",
      "[Tune-y] 98: auc.test.mean=0.5000000; time: 0.2 min\n",
      "[Tune-x] 99: gamma=0; cost=99\n",
      "[Tune-y] 99: auc.test.mean=0.5000000; time: 0.2 min\n",
      "[Tune-x] 100: gamma=0; cost=100\n",
      "[Tune-y] 100: auc.test.mean=0.5000000; time: 0.2 min\n",
      "[Tune] Result: gamma=0; cost=32 : auc.test.mean=0.5000000\n"
     ]
    }
   ],
   "source": [
    "# Set up cross-validation\n",
    "rdesc = makeResampleDesc(\"CV\", iters=10)\n",
    "\n",
    "# Define the model\n",
    "learner <- makeLearner(\"classif.svm\", predict.type=\"prob\", fix.factors.prediction=T)\n",
    "\n",
    "# Define the task\n",
    "train_task <- makeClassifTask(id=\"bank_train\", data=train_processed[, -1], target=\"subscribe\")\n",
    "\n",
    "# Set hyper parameter tuning\n",
    "tune_params <- makeParamSet(\n",
    "    #makeDiscreteParam('max.depth', value=c(3, 4, 5, 6, 8, 10, 12, 15)),\n",
    "    makeDiscreteParam('gamma', value=c(0.0:0.4)),\n",
    "    makeDiscreteParam('cost', value=c(1:100))\n",
    ")\n",
    "ctrl = makeTuneControlGrid()\n",
    "\n",
    "# Run the hyper parameter tuning with k-fold CV\n",
    "if (length(tune_params$pars) > 0) {\n",
    "    # Run parameter tuning\n",
    "    res <- tuneParams(learner, task=train_task, resampling=rdesc,\n",
    "     par.set=tune_params, control=ctrl, measures=list(mlr::auc))\n",
    "    \n",
    "    # Extract best model\n",
    "    best_learner <- res$learner\n",
    "    \n",
    "} else {\n",
    "    # Simple cross-validation\n",
    "    res <- resample(learner, train_task, rdesc, measures=list(mlr::auc))\n",
    "    \n",
    "    # No parameter for tuning, only 1 best learner\n",
    "    best_learner <- learner\n",
    "}"
   ]
  },
  {
   "cell_type": "code",
   "execution_count": 140,
   "metadata": {},
   "outputs": [
    {
     "data": {
      "text/html": [
       "<strong>auc:</strong> 0.734210902689917"
      ],
      "text/latex": [
       "\\textbf{auc:} 0.734210902689917"
      ],
      "text/markdown": [
       "**auc:** 0.734210902689917"
      ],
      "text/plain": [
       "      auc \n",
       "0.7342109 "
      ]
     },
     "metadata": {},
     "output_type": "display_data"
    }
   ],
   "source": [
    "# Retrain the model with tbe best hyper-parameters\n",
    "best_md <- mlr::train(best_learner, train_task)\n",
    "\n",
    "# Make prediction on valid data\n",
    "pred <- predict(best_md, newdata=test_processed[, -1])\n",
    "mlr::performance(pred, measures= mlr::auc)"
   ]
  },
  {
   "cell_type": "code",
   "execution_count": null,
   "metadata": {},
   "outputs": [],
   "source": [
    "#Saving the predictions of the logistic regression model \n",
    "#write.csv(predicted.results ,\"PredictionsToSubmit.csv\", row.names = FALSE)"
   ]
  }
 ],
 "metadata": {
  "kernelspec": {
   "display_name": "R",
   "language": "R",
   "name": "ir"
  },
  "language_info": {
   "codemirror_mode": "r",
   "file_extension": ".r",
   "mimetype": "text/x-r-source",
   "name": "R",
   "pygments_lexer": "r",
   "version": "3.6.0"
  }
 },
 "nbformat": 4,
 "nbformat_minor": 2
}
